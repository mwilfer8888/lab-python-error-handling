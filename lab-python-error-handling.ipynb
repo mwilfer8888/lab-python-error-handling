{
 "cells": [
  {
   "cell_type": "markdown",
   "id": "25d7736c-ba17-4aff-b6bb-66eba20fbf4e",
   "metadata": {},
   "source": [
    "# Lab | Error Handling"
   ]
  },
  {
   "cell_type": "markdown",
   "id": "bc99b386-7508-47a0-bcdb-d969deaf6c8b",
   "metadata": {},
   "source": [
    "## Exercise: Error Handling for Managing Customer Orders\n",
    "\n",
    "The implementation of your code for managing customer orders assumes that the user will always enter a valid input. \n",
    "\n",
    "For example, we could modify the `initialize_inventory` function to include error handling.\n",
    "   - If the user enters an invalid quantity (e.g., a negative value or a non-numeric value), display an error message and ask them to re-enter the quantity for that product.\n",
    "   - Use a try-except block to handle the error and continue prompting the user until a valid quantity is entered.\n",
    "\n",
    "```python\n",
    "# Step 1: Define the function for initializing the inventory with error handling\n",
    "def initialize_inventory(products):\n",
    "    inventory = {}\n",
    "    for product in products:\n",
    "        valid_quantity = False\n",
    "        while not valid_quantity:\n",
    "            try:\n",
    "                quantity = int(input(f\"Enter the quantity of {product}s available: \"))\n",
    "                if quantity < 0:\n",
    "                    raise ValueError(\"Invalid quantity! Please enter a non-negative value.\")\n",
    "                valid_quantity = True\n",
    "            except ValueError as error:\n",
    "                print(f\"Error: {error}\")\n",
    "        inventory[product] = quantity\n",
    "    return inventory\n",
    "\n",
    "# Or, in another way:\n",
    "\n",
    "def initialize_inventory(products):\n",
    "    inventory = {}\n",
    "    for product in products:\n",
    "        valid_input = False\n",
    "        while not valid_input:\n",
    "            try:\n",
    "                quantity = int(input(f\"Enter the quantity of {product}s available: \"))\n",
    "                if quantity >= 0:\n",
    "                    inventory[product] = quantity\n",
    "                    valid_input = True\n",
    "                else:\n",
    "                    print(\"Quantity cannot be negative. Please enter a valid quantity.\")\n",
    "            except ValueError:\n",
    "                print(\"Invalid input. Please enter a valid quantity.\")\n",
    "    return inventory\n",
    "```\n",
    "\n",
    "Let's enhance your code by implementing error handling to handle invalid inputs.\n",
    "\n",
    "Follow the steps below to complete the exercise:\n",
    "\n",
    "2. Modify the `calculate_total_price` function to include error handling.\n",
    "   - If the user enters an invalid price (e.g., a negative value or a non-numeric value), display an error message and ask them to re-enter the price for that product.\n",
    "   - Use a try-except block to handle the error and continue prompting the user until a valid price is entered.\n",
    "\n",
    "3. Modify the `get_customer_orders` function to include error handling.\n",
    "   - If the user enters an invalid number of orders (e.g., a negative value or a non-numeric value), display an error message and ask them to re-enter the number of orders.\n",
    "   - If the user enters an invalid product name (e.g., a product name that is not in the inventory), or that doesn't have stock available, display an error message and ask them to re-enter the product name. *Hint: you will need to pass inventory as a parameter*\n",
    "   - Use a try-except block to handle the error and continue prompting the user until a valid product name is entered.\n",
    "\n",
    "4. Test your code by running the program and deliberately entering invalid quantities and product names. Make sure the error handling mechanism works as expected.\n"
   ]
  },
  {
   "cell_type": "code",
   "execution_count": 5,
   "id": "366ab7c7",
   "metadata": {},
   "outputs": [],
   "source": [
    "products = [\"tshirt\", \"mug\", \"hat\", \"book\", \"keychain\"]\n",
    "inventory = {}"
   ]
  },
  {
   "cell_type": "code",
   "execution_count": 6,
   "id": "e8fb4021",
   "metadata": {},
   "outputs": [
    {
     "name": "stdout",
     "output_type": "stream",
     "text": [
      "Enter the quantity of tshirt:5\n",
      "Enter the quantity of mug:4\n",
      "Enter the quantity of hat:3\n",
      "Enter the quantity of book:3\n",
      "Enter the quantity of keychain:1\n"
     ]
    }
   ],
   "source": [
    "\n",
    "def initialize_inventory(products):\n",
    "    inventory = {product: int(input(f\"Enter the quantity of {product}:\")) for product in products}\n",
    "\n",
    "initialize_inventory(products)\n",
    "\n"
   ]
  },
  {
   "cell_type": "code",
   "execution_count": 10,
   "id": "c0df3102",
   "metadata": {},
   "outputs": [],
   "source": [
    "customer_orders = set()\n",
    "def customer_input():\n",
    "    while True:\n",
    "        desired_product = input(\"Enter the product you want to order:\").strip()\n",
    "        customer_orders.add(desired_product) \n",
    "        another_one = input(\"Would you like to add another product to your order, yes or no?\")\n",
    "        if another_one.lower() != \"yes\":\n",
    "            break\n",
    "    return(customer_orders)   "
   ]
  },
  {
   "cell_type": "code",
   "execution_count": 11,
   "id": "6de36730",
   "metadata": {},
   "outputs": [],
   "source": [
    "def get_customer_orders():\n",
    "    while True:\n",
    "        try:\n",
    "            number_customer_orders = int(input(\"How many customer orders do you have? \"))\n",
    "            if number_customer_orders <= 0:\n",
    "                print(\"Number of orders cannot be negative. Please try again.\")\n",
    "                continue  \n",
    "            else:\n",
    "                break  \n",
    "        except ValueError:\n",
    "            print(\" Please enter a valid number.\")\n",
    "\n",
    "    for i in range(number_customer_orders):\n",
    "        customer_input()  "
   ]
  },
  {
   "cell_type": "code",
   "execution_count": 12,
   "id": "30e5e95d",
   "metadata": {},
   "outputs": [],
   "source": [
    "# def calculate_order_price(customer_orders):\n",
    "#     product_prices = {}\n",
    "    \n",
    "#     for product in customer_orders:\n",
    "#         price = float(input(f\"Please enter the price of {product}: \"))\n",
    "#         product_prices[product] = price\n",
    "        \n",
    "#     total_price = 0\n",
    "#     for product in customer_orders:\n",
    "#         total_price += product_prices[product]\n",
    "    \n",
    "#     print(f\"The total price of the order is ${total_price}.\")\n",
    "\n",
    "\n",
    "def total_order_price(customer_orders):\n",
    "    product_prices = {}\n",
    "    \n",
    "    for product in customer_orders:\n",
    "        while True:\n",
    "            try:\n",
    "                price = float(input(f\"Please enter the price of a {product}: \"))\n",
    "                if price < 0:\n",
    "                    print(\"Price cannot be negative. Please enter a valid amount.\")\n",
    "                    continue  \n",
    "                else:\n",
    "                    product_prices[product] = price\n",
    "                    break  \n",
    "            except ValueError:\n",
    "                print(\"Invalid input. Please enter a valid price.\")\n",
    "\n",
    "    total_price = sum(product_prices[product] for product in customer_orders)\n",
    "    \n",
    "    print(f\"The total price of the order is ${total_price}.\")"
   ]
  },
  {
   "cell_type": "code",
   "execution_count": 14,
   "id": "08ced6c6",
   "metadata": {},
   "outputs": [
    {
     "name": "stdout",
     "output_type": "stream",
     "text": [
      "How many customer orders do you have? five\n",
      " Please enter a valid number.\n",
      "How many customer orders do you have? -1\n",
      "Number of orders cannot be negative. Please try again.\n",
      "How many customer orders do you have? 2\n",
      "Enter the product you want to order:hat\n",
      "Would you like to add another product to your order, yes or no?no\n",
      "Enter the product you want to order:mug\n",
      "Would you like to add another product to your order, yes or no?no\n"
     ]
    }
   ],
   "source": [
    "get_customer_orders()"
   ]
  },
  {
   "cell_type": "code",
   "execution_count": 15,
   "id": "4453e367",
   "metadata": {},
   "outputs": [
    {
     "name": "stdout",
     "output_type": "stream",
     "text": [
      "Please enter the price of a mug: -45\n",
      "Price cannot be negative. Please enter a valid amount.\n",
      "Please enter the price of a mug: five hundred million\n",
      "Invalid input. Please enter a valid price.\n",
      "Please enter the price of a mug: 40\n",
      "Please enter the price of a keychain: 2.56\n",
      "Please enter the price of a hat: 600.43\n",
      "The total price of the order is $642.99.\n"
     ]
    }
   ],
   "source": [
    "total_order_price(customer_orders)"
   ]
  },
  {
   "cell_type": "code",
   "execution_count": null,
   "id": "86fc5979",
   "metadata": {},
   "outputs": [],
   "source": []
  }
 ],
 "metadata": {
  "kernelspec": {
   "display_name": "Python 3 (ipykernel)",
   "language": "python",
   "name": "python3"
  },
  "language_info": {
   "codemirror_mode": {
    "name": "ipython",
    "version": 3
   },
   "file_extension": ".py",
   "mimetype": "text/x-python",
   "name": "python",
   "nbconvert_exporter": "python",
   "pygments_lexer": "ipython3",
   "version": "3.11.7"
  }
 },
 "nbformat": 4,
 "nbformat_minor": 5
}
